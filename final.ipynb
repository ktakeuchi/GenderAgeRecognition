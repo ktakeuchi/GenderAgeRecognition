{
 "cells": [
  {
   "attachments": {},
   "cell_type": "markdown",
   "metadata": {},
   "source": [
    "Import necessary packages"
   ]
  },
  {
   "cell_type": "code",
   "execution_count": 1,
   "metadata": {},
   "outputs": [],
   "source": [
    "import pandas as pd\n",
    "import numpy as np\n",
    "import matplotlib.pyplot as plt\n",
    "import seaborn as sns\n",
    "%matplotlib inline\n",
    "\n",
    "from sklearn.model_selection import train_test_split\n",
    "from sklearn.preprocessing import StandardScaler\n",
    "from sklearn.metrics import accuracy_score\n",
    "from sklearn.svm import SVC\n",
    "from sklearn.ensemble import RandomForestClassifier"
   ]
  },
  {
   "attachments": {},
   "cell_type": "markdown",
   "metadata": {},
   "source": [
    "In the below section, we create 4 datasets. The first dataset, gender_data, is used for gender classification. The second data set, age_male_data, is used for male/other age classification. The third data set, age_female_data, is used for female age classification. The last dataset is custom_data to determine the age/gender of the custom audio inputs."
   ]
  },
  {
   "cell_type": "code",
   "execution_count": 2,
   "metadata": {},
   "outputs": [],
   "source": [
    "#input path to 'full_dataset_label.csv' here ######################################\n",
    "dataset = \"C:/Users/nbard/OneDrive/Documents/Virginia Tech/ECE 4424/final_project/full_dataset_label.csv\"\n",
    "\n",
    "gender_data = pd.read_csv(dataset)\n",
    "gender_data = gender_data.drop(['age'], axis=1)\n",
    "\n",
    "age_male_data = pd.read_csv(dataset)\n",
    "age_male_data = age_male_data.drop(age_male_data[age_male_data['gender'] == 'female'].index)\n",
    "age_male_data = age_male_data.drop(['gender'], axis=1)\n",
    "\n",
    "age_female_data = pd.read_csv(dataset)\n",
    "age_female_data = age_female_data.drop(age_female_data[age_female_data['gender'] == 'male'].index)\n",
    "age_female_data = age_female_data.drop(['gender'], axis=1)\n",
    "\n",
    "#input path to custom audio input here ############################################\n",
    "custom_data = pd.read_csv(\"C:/Users/nbard/OneDrive/Documents/Virginia Tech/ECE 4424/final_project/custom_input.csv\")\n",
    "custom_data_gender = custom_data.drop(['age'], axis=1)"
   ]
  },
  {
   "attachments": {},
   "cell_type": "markdown",
   "metadata": {},
   "source": [
    "The below section will create a chart displaying the counts of each age grouping for each gender."
   ]
  },
  {
   "cell_type": "code",
   "execution_count": 3,
   "metadata": {},
   "outputs": [
    {
     "data": {
      "image/png": "[encoded data removed]",
      "text/plain": [
       "<Figure size 640x480 with 1 Axes>"
      ]
     },
     "metadata": {},
     "output_type": "display_data"
    }
   ],
   "source": [
    "plot = pd.read_csv(dataset)\n",
    "sns.countplot(x=\"age\", \n",
    "        hue='gender',\n",
    "        data=plot[plot['age'].notna()],\n",
    "        order=['teens', 'twenties', 'thirties', 'fourties', 'fifties', 'sixties', 'seventies', 'eighties'])\n",
    "\n",
    "plt.show()"
   ]
  },
  {
   "attachments": {},
   "cell_type": "markdown",
   "metadata": {},
   "source": [
    "After completing the initial data transformation, we need to update the labels for age and gender to numerical labels. This is for the fit and transform algorithms, as well as the SVM implementation of sklearn."
   ]
  },
  {
   "cell_type": "code",
   "execution_count": 4,
   "metadata": {},
   "outputs": [],
   "source": [
    "gender_data['gender'].replace('female', 1, inplace=True)\n",
    "gender_data['gender'].replace('male', 2, inplace=True)\n",
    "\n",
    "age_male_data['age'].replace('teens', 1, inplace=True)\n",
    "age_male_data['age'].replace('twenties', 2, inplace=True)\n",
    "age_male_data['age'].replace('thirties', 3, inplace=True)\n",
    "age_male_data['age'].replace('fourties', 4, inplace=True)\n",
    "age_male_data['age'].replace('fifties', 5, inplace=True)\n",
    "age_male_data['age'].replace('sixties', 6, inplace=True)\n",
    "age_male_data['age'].replace('seventies', 7, inplace=True)\n",
    "age_male_data['age'].replace('eighties', 8, inplace=True)\n",
    "\n",
    "age_female_data['age'].replace('teens', 1, inplace=True)\n",
    "age_female_data['age'].replace('twenties', 2, inplace=True)\n",
    "age_female_data['age'].replace('thirties', 3, inplace=True)\n",
    "age_female_data['age'].replace('fourties', 4, inplace=True)\n",
    "age_female_data['age'].replace('fifties', 5, inplace=True)\n",
    "age_female_data['age'].replace('sixties', 6, inplace=True)\n",
    "age_female_data['age'].replace('seventies', 7, inplace=True)\n",
    "age_female_data['age'].replace('eighties', 8, inplace=True)"
   ]
  },
  {
   "attachments": {},
   "cell_type": "markdown",
   "metadata": {},
   "source": [
    "After we finish the data transformation, we split the data set into an X and Y dataset, with X containing the features, and Y containing the labels. This is done for each data set."
   ]
  },
  {
   "cell_type": "code",
   "execution_count": 5,
   "metadata": {},
   "outputs": [],
   "source": [
    "X = gender_data.drop(['gender'], axis=1)\n",
    "Y = gender_data['gender']\n",
    "\n",
    "X2 = age_male_data.drop(['age'], axis=1)\n",
    "Y2 = age_male_data['age']\n",
    "\n",
    "X3 = age_female_data.drop(['age'], axis=1)\n",
    "Y3 = age_female_data['age']\n",
    "\n",
    "custom_X_gender = custom_data_gender.drop(['gender'], axis=1)\n"
   ]
  },
  {
   "attachments": {},
   "cell_type": "markdown",
   "metadata": {},
   "source": [
    "After obtaining the X and Y of each dataset, we split each X and Y into train and test data sets with a 70/30 split. "
   ]
  },
  {
   "cell_type": "code",
   "execution_count": 6,
   "metadata": {},
   "outputs": [],
   "source": [
    "X_train, X_test, Y_train, Y_test = train_test_split(X, Y, test_size = 0.3, random_state = 42)\n",
    "X2_train, X2_test, Y2_train, Y2_test = train_test_split(X2, Y2, test_size = 0.3, random_state = 42)\n",
    "X3_train, X3_test, Y3_train, Y3_test = train_test_split(X3, Y3, test_size = 0.3, random_state = 42)"
   ]
  },
  {
   "attachments": {},
   "cell_type": "markdown",
   "metadata": {},
   "source": [
    "The code below standardizes the features of the data with the StandardScaler class from scikit-learn. It normalizes each data point and updates the average to 0 with a standard deviation of 1. This allows sklearn's algorithms to better compare data points with their newly scaled features."
   ]
  },
  {
   "cell_type": "code",
   "execution_count": 7,
   "metadata": {},
   "outputs": [],
   "source": [
    "def standardize_data(train_data, test_data):\n",
    "    cols = train_data.columns\n",
    "    scaler = StandardScaler()\n",
    "    train_data_scaled = scaler.fit_transform(train_data)\n",
    "    train_data_scaled = pd.DataFrame(train_data_scaled, columns=cols)\n",
    "    \n",
    "    test_data_scaled = scaler.transform(test_data)\n",
    "    test_data_scaled = pd.DataFrame(test_data_scaled, columns=cols)\n",
    "    \n",
    "    return train_data_scaled, test_data_scaled\n",
    "\n",
    "X_train, X_test = standardize_data(X_train, X_test)\n",
    "X2_train, X2_test = standardize_data(X2_train, X2_test)\n",
    "X3_train, X3_test = standardize_data(X3_train, X3_test)\n",
    "\n",
    "scaler2 = StandardScaler()\n",
    "custom_standard_x_gender = pd.DataFrame(scaler2.fit_transform(custom_X_gender), columns=custom_X_gender.columns)"
   ]
  },
  {
   "attachments": {},
   "cell_type": "markdown",
   "metadata": {},
   "source": [
    "Create two python functions tolerance_accuracy and train_and_evaluate_model. tolerance_accuracy measures the updated accuracy of the age bins. train_and_evaluate_model fits the data and then predicts the labels."
   ]
  },
  {
   "cell_type": "code",
   "execution_count": 8,
   "metadata": {},
   "outputs": [],
   "source": [
    "def tolerance_accuracy(y_true, y_pred, tolerance):\n",
    "    correct = 0\n",
    "    for i in range(len(y_true)):\n",
    "        if abs(y_true[i] - y_pred[i]) <= tolerance:\n",
    "            correct += 1\n",
    "    return correct / len(y_true)\n",
    "\n",
    "def train_and_evaluate_model(model, X_train, Y_train, X_test, Y_test, tolerance=None, accuracy_fn=accuracy_score):\n",
    "    model.fit(X_train, Y_train)\n",
    "    Y_pred_test = model.predict(X_test)\n",
    "    Y_test = np.asarray(Y_test)\n",
    "    \n",
    "    if tolerance is not None:\n",
    "        accuracy = accuracy_fn(Y_test, Y_pred_test, tolerance) * 100\n",
    "    else:\n",
    "        accuracy = accuracy_fn(Y_test, Y_pred_test) * 100\n",
    "        \n",
    "    return accuracy"
   ]
  },
  {
   "attachments": {},
   "cell_type": "markdown",
   "metadata": {},
   "source": [
    "Run SVM models, one for gender, one for male age, and one for female age. Trains on train data and predicts on test data. Creates dictionaries to replace numeric values with correct labels. Prints out classification for each custom input in addition to the overall gender and age accuracies."
   ]
  },
  {
   "cell_type": "code",
   "execution_count": 9,
   "metadata": {},
   "outputs": [
    {
     "name": "stdout",
     "output_type": "stream",
     "text": [
      "Classification for custom input 0 :  ('twenties', 'male')\n",
      "Classification for custom input 1 :  ('twenties', 'male')\n",
      "Classification for custom input 2 :  ('twenties', 'male')\n",
      "Classification for custom input 3 :  ('twenties', 'male')\n",
      "Classification for custom input 4 :  ('thirties', 'female')\n",
      "Classification for custom input 5 :  ('twenties', 'female')\n",
      "Classification for custom input 6 :  ('twenties', 'female')\n",
      "Classification for custom input 7 :  ('thirties', 'male')\n",
      "\n",
      "Gender Classification Model\n",
      "Accuracy: 92.2559%\n",
      "\n",
      "Age Classification Model\n",
      "Male Accuracy with tolerance 1: 68.4540%\n",
      "Female Accuracy with tolerance 1: 69.3989%\n"
     ]
    }
   ],
   "source": [
    "age_tolerance = 1\n",
    "gender_model = SVC(kernel='rbf', C=1) \n",
    "age_male_model = SVC(kernel='rbf', C=1)\n",
    "age_female_model = SVC(kernel='rbf', C=1)\n",
    "\n",
    "gender_accuracy = train_and_evaluate_model(gender_model, X_train, Y_train, X_test, Y_test)\n",
    "age_male_accuracy = train_and_evaluate_model(age_male_model, X2_train, Y2_train, X2_test, Y2_test, age_tolerance, tolerance_accuracy)\n",
    "age_female_accuracy = train_and_evaluate_model(age_female_model, X3_train, Y3_train, X3_test, Y3_test, age_tolerance, tolerance_accuracy)\n",
    "\n",
    "gender_dict = {1: 'female', 2: 'male'}\n",
    "age_dict = {1: 'teens', 2: 'twenties', 3: 'thirties', 4: 'fourties', 5: 'fifties', 6: 'sixties', 7: 'seventies', 8: 'eighties'}\n",
    "\n",
    "custom_predict_y_gender = []\n",
    "custom_predict_y_age = []\n",
    "\n",
    "for i in range(len(custom_standard_x_gender)):\n",
    "    curr_sample = custom_standard_x_gender.iloc[[i]]\n",
    "    curr_predict_gender = gender_model.predict(curr_sample)\n",
    "\n",
    "    custom_predict_y_gender.append(curr_predict_gender[0])\n",
    "    \n",
    "    if(curr_predict_gender[0] == 1):\n",
    "        curr_predict_age = age_female_model.predict(curr_sample)\n",
    "    else:\n",
    "        curr_predict_age = age_male_model.predict(curr_sample)\n",
    "        \n",
    "    custom_predict_y_age.append(curr_predict_age[0])\n",
    "    \n",
    "    output_y = (age_dict[curr_predict_age[0]], gender_dict[curr_predict_gender[0]])\n",
    "\n",
    "    print(\"Classification for custom input\", i, \": \", output_y)\n",
    "\n",
    "print()\n",
    "print('Gender Classification Model\\nAccuracy: {:0.4f}%'.format(gender_accuracy))\n",
    "print()\n",
    "print('Age Classification Model\\nMale Accuracy with tolerance {}: {:0.4f}%'.format(age_tolerance, age_male_accuracy))\n",
    "print('Female Accuracy with tolerance {}: {:0.4f}%'.format(age_tolerance, age_female_accuracy))"
   ]
  },
  {
   "attachments": {},
   "cell_type": "markdown",
   "metadata": {},
   "source": [
    "The code below is our implementation of RandomForestClassifier with a list of possible numbers of estimators that will be looped through to compare the accuracy using the different values, which will be stored in accuracy_list. For every iteration, three RandomForestClassifiers are created: gender_model, age_male_model, and age_female_model. The models are trained using train_and_evaluate_model. Results are printed with current number of estimators, the gender classifcation model accuracy, and the age classification model accuracy with age tolerance for both male and female."
   ]
  },
  {
   "cell_type": "code",
   "execution_count": 10,
   "metadata": {},
   "outputs": [
    {
     "name": "stdout",
     "output_type": "stream",
     "text": [
      "N-Estimators: 1\n",
      "\n",
      "Classification for custom input 0 :  ('twenties', 'male')\n",
      "Classification for custom input 1 :  ('twenties', 'male')\n",
      "Classification for custom input 2 :  ('twenties', 'male')\n",
      "Classification for custom input 3 :  ('teens', 'male')\n",
      "Classification for custom input 4 :  ('twenties', 'female')\n",
      "Classification for custom input 5 :  ('fourties', 'female')\n",
      "Classification for custom input 6 :  ('teens', 'female')\n",
      "Classification for custom input 7 :  ('teens', 'female')\n",
      "\n",
      "Gender Classification Model\n",
      "Accuracy: 86.5993%\n",
      "\n",
      "Age Classification Model\n",
      "Male Accuracy with tolerance 1: 54.9598%\n",
      "Female Accuracy with tolerance 1: 56.5574%\n",
      "\n",
      "\n",
      "N-Estimators: 5\n",
      "\n",
      "Classification for custom input 0 :  ('twenties', 'male')\n",
      "Classification for custom input 1 :  ('twenties', 'male')\n",
      "Classification for custom input 2 :  ('fourties', 'male')\n",
      "Classification for custom input 3 :  ('teens', 'male')\n",
      "Classification for custom input 4 :  ('twenties', 'female')\n",
      "Classification for custom input 5 :  ('fourties', 'female')\n",
      "Classification for custom input 6 :  ('teens', 'female')\n",
      "Classification for custom input 7 :  ('thirties', 'male')\n",
      "\n",
      "Gender Classification Model\n",
      "Accuracy: 90.5724%\n",
      "\n",
      "Age Classification Model\n",
      "Male Accuracy with tolerance 1: 62.1984%\n",
      "Female Accuracy with tolerance 1: 58.4699%\n",
      "\n",
      "\n",
      "N-Estimators: 10\n",
      "\n",
      "Classification for custom input 0 :  ('twenties', 'male')\n",
      "Classification for custom input 1 :  ('twenties', 'male')\n",
      "Classification for custom input 2 :  ('fourties', 'male')\n",
      "Classification for custom input 3 :  ('teens', 'male')\n",
      "Classification for custom input 4 :  ('twenties', 'female')\n",
      "Classification for custom input 5 :  ('fourties', 'female')\n",
      "Classification for custom input 6 :  ('teens', 'female')\n",
      "Classification for custom input 7 :  ('thirties', 'male')\n",
      "\n",
      "Gender Classification Model\n",
      "Accuracy: 90.7744%\n",
      "\n",
      "Age Classification Model\n",
      "Male Accuracy with tolerance 1: 63.5389%\n",
      "Female Accuracy with tolerance 1: 60.9290%\n",
      "\n",
      "\n",
      "N-Estimators: 50\n",
      "\n",
      "Classification for custom input 0 :  ('twenties', 'male')\n",
      "Classification for custom input 1 :  ('twenties', 'male')\n",
      "Classification for custom input 2 :  ('fourties', 'male')\n",
      "Classification for custom input 3 :  ('fourties', 'male')\n",
      "Classification for custom input 4 :  ('thirties', 'female')\n",
      "Classification for custom input 5 :  ('fourties', 'female')\n",
      "Classification for custom input 6 :  ('twenties', 'female')\n",
      "Classification for custom input 7 :  ('fifties', 'male')\n",
      "\n",
      "Gender Classification Model\n",
      "Accuracy: 91.9192%\n",
      "\n",
      "Age Classification Model\n",
      "Male Accuracy with tolerance 1: 67.9178%\n",
      "Female Accuracy with tolerance 1: 65.8470%\n",
      "\n",
      "\n",
      "N-Estimators: 100\n",
      "\n",
      "Classification for custom input 0 :  ('twenties', 'male')\n",
      "Classification for custom input 1 :  ('twenties', 'male')\n",
      "Classification for custom input 2 :  ('fourties', 'male')\n",
      "Classification for custom input 3 :  ('fourties', 'male')\n",
      "Classification for custom input 4 :  ('thirties', 'female')\n",
      "Classification for custom input 5 :  ('fourties', 'female')\n",
      "Classification for custom input 6 :  ('twenties', 'female')\n",
      "Classification for custom input 7 :  ('fourties', 'male')\n",
      "\n",
      "Gender Classification Model\n",
      "Accuracy: 92.3906%\n",
      "\n",
      "Age Classification Model\n",
      "Male Accuracy with tolerance 1: 68.9902%\n",
      "Female Accuracy with tolerance 1: 69.3989%\n",
      "\n",
      "\n",
      "N-Estimators: 500\n",
      "\n",
      "Classification for custom input 0 :  ('twenties', 'male')\n",
      "Classification for custom input 1 :  ('twenties', 'male')\n",
      "Classification for custom input 2 :  ('fourties', 'male')\n",
      "Classification for custom input 3 :  ('thirties', 'male')\n",
      "Classification for custom input 4 :  ('thirties', 'female')\n",
      "Classification for custom input 5 :  ('fourties', 'female')\n",
      "Classification for custom input 6 :  ('twenties', 'female')\n",
      "Classification for custom input 7 :  ('thirties', 'male')\n",
      "\n",
      "Gender Classification Model\n",
      "Accuracy: 92.2559%\n",
      "\n",
      "Age Classification Model\n",
      "Male Accuracy with tolerance 1: 68.8114%\n",
      "Female Accuracy with tolerance 1: 67.2131%\n",
      "\n",
      "\n",
      "N-Estimators: 1000\n",
      "\n",
      "Classification for custom input 0 :  ('twenties', 'male')\n",
      "Classification for custom input 1 :  ('twenties', 'male')\n",
      "Classification for custom input 2 :  ('fourties', 'male')\n",
      "Classification for custom input 3 :  ('thirties', 'male')\n",
      "Classification for custom input 4 :  ('thirties', 'female')\n",
      "Classification for custom input 5 :  ('fourties', 'female')\n",
      "Classification for custom input 6 :  ('twenties', 'female')\n",
      "Classification for custom input 7 :  ('thirties', 'male')\n",
      "\n",
      "Gender Classification Model\n",
      "Accuracy: 92.3906%\n",
      "\n",
      "Age Classification Model\n",
      "Male Accuracy with tolerance 1: 69.2583%\n",
      "Female Accuracy with tolerance 1: 69.3989%\n",
      "\n",
      "\n"
     ]
    }
   ],
   "source": [
    "poss_n_estimators = [1, 5, 10, 50, 100, 500, 1000]\n",
    "\n",
    "accuracy_list = []\n",
    "\n",
    "for n in poss_n_estimators:\n",
    "    gender_model = RandomForestClassifier(n_estimators=n, random_state=42)\n",
    "    age_male_model = RandomForestClassifier(n_estimators=n, random_state=42)\n",
    "    age_female_model = RandomForestClassifier(n_estimators=n, random_state=42)\n",
    "\n",
    "    gender_accuracy = train_and_evaluate_model(gender_model, X_train, Y_train, X_test, Y_test)\n",
    "    age_male_accuracy = train_and_evaluate_model(age_male_model, X2_train, Y2_train, X2_test, Y2_test, age_tolerance, tolerance_accuracy)\n",
    "    age_female_accuracy = train_and_evaluate_model(age_female_model, X3_train, Y3_train, X3_test, Y3_test, age_tolerance, tolerance_accuracy)\n",
    "       \n",
    "    print('N-Estimators: {}'.format(n))\n",
    "    print()\n",
    "    \n",
    "    for i in range(len(custom_standard_x_gender)):\n",
    "        curr_sample = custom_standard_x_gender.iloc[[i]]\n",
    "        curr_predict_gender = gender_model.predict(curr_sample)\n",
    "\n",
    "        custom_predict_y_gender.append(curr_predict_gender[0])\n",
    "        \n",
    "        if(curr_predict_gender[0] == 1):\n",
    "            curr_predict_age = age_female_model.predict(curr_sample)\n",
    "        else:\n",
    "            curr_predict_age = age_male_model.predict(curr_sample)\n",
    "            \n",
    "        custom_predict_y_age.append(curr_predict_age[0])\n",
    "        \n",
    "        output_y = (age_dict[curr_predict_age[0]], gender_dict[curr_predict_gender[0]])\n",
    "\n",
    "        print(\"Classification for custom input\", i, \": \", output_y)\n",
    "        \n",
    "    print()\n",
    "    print('Gender Classification Model\\nAccuracy: {:0.4f}%'.format(gender_accuracy))\n",
    "    print()\n",
    "    print('Age Classification Model\\nMale Accuracy with tolerance {}: {:0.4f}%'.format(age_tolerance, age_male_accuracy))\n",
    "    print('Female Accuracy with tolerance {}: {:0.4f}%'.format(age_tolerance, age_female_accuracy))\n",
    "    print()\n",
    "    print()"
   ]
  }
 ],
 "metadata": {
  "kernelspec": {
   "display_name": "Python 3",
   "language": "python",
   "name": "python3"
  },
  "language_info": {
   "codemirror_mode": {
    "name": "ipython",
    "version": 3
   },
   "file_extension": ".py",
   "mimetype": "text/x-python",
   "name": "python",
   "nbconvert_exporter": "python",
   "pygments_lexer": "ipython3",
   "version": "3.10.8"
  },
  "orig_nbformat": 4
 },
 "nbformat": 4,
 "nbformat_minor": 2
}
